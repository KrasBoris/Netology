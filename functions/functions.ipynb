{
 "cells": [
  {
   "cell_type": "markdown",
   "metadata": {},
   "source": [
    "# Задание 1"
   ]
  },
  {
   "cell_type": "code",
   "execution_count": 2,
   "metadata": {},
   "outputs": [],
   "source": [
    "documents = [\n",
    "    {'type': 'passport', 'number': '2207 876234', 'name': 'Василий Гупкин'},\n",
    "    {'type': 'invoice', 'number': '11-2', 'name': 'Геннадий Покемонов'},\n",
    "    {'type': 'insurance', 'number': '10006', 'name': 'Аристарх Павлов'}\n",
    "]\n",
    "directories = {\n",
    "    '1': ['2207 876234', '11-2'],\n",
    "    '2': ['10006'],\n",
    "    '3': []\n",
    "}"
   ]
  },
  {
   "cell_type": "code",
   "execution_count": 49,
   "metadata": {},
   "outputs": [
    {
     "name": "stdout",
     "output_type": "stream",
     "text": [
      "Такая полка уже существует. Текущий перечень полок: 1, 2, 3, 10\n",
      "Полка удалена.Текущий перечень полок: 1, 2, 3\n",
      "На полке есть документа, удалите их перед удалением полки. Текущий перечень полок: 1, 2, 3\n",
      "Полка добавлена. Текущий перечень полок: 1, 2, 3, 9\n",
      "№: 2207 876234, тип: passport, владелец: Василий Гупкин, полка хранения: 1\n",
      "№: 11-2, тип: invoice, владелец: Геннадий Покемонов, полка хранения: 1\n",
      "№: 10006, тип: insurance, владелец: Аристарх Павлов, полка хранения: 2\n",
      "Документ хранится на полке 2\n",
      "Документ не найден в базе\n",
      "Владелец документа: Аристарх Павлов\n",
      "Документ не найден в базе\n"
     ]
    }
   ],
   "source": [
    "def punkt_1(number_doc):\n",
    "    'имz владельца документа'\n",
    "    io = [k['name'] for k in documents if k['number'] == number_doc]\n",
    "    return io[0]\n",
    "\n",
    "def punkt_2(number_doc):\n",
    "    'номер полки, где хранится документ'\n",
    "    return [k for k,v in directories.items() if number_doc in v][0]\n",
    "\n",
    "def check_doc(comand):\n",
    "    '''\n",
    "    запрос номера документы, вывод имени владельца или\n",
    "    номера полки, где хранится документ\n",
    "    '''\n",
    "    number_doc = input('Введите номер документа:')\n",
    "    if number_doc in [v['number'] for v in documents]:\n",
    "        if comand == 'p':\n",
    "            print('Владелец документа:', punkt_1(number_doc))\n",
    "        elif comand == 's':\n",
    "            print('Документ хранится на полке', punkt_2(number_doc))\n",
    "    else:\n",
    "        print('Документ не найден в базе')\n",
    "\n",
    "def punkt_3():\n",
    "    'вывод информации о всех документах'\n",
    "    for d in documents:\n",
    "        print(f'№: {d[\"number\"]}, тип: {d[\"type\"]}, владелец: {d[\"name\"]}, полка хранения: {punkt_2(d[\"number\"])}')\n",
    "\n",
    "\n",
    "def ask_num_rack():\n",
    "    'запрос и ввод номера полок'\n",
    "    return input('Введите номер полки:')\n",
    "\n",
    "def punkt_4(numb_rack):\n",
    "    'добавления полки'\n",
    "    directories[numb_rack] = []\n",
    "\n",
    "def print_rack(str):\n",
    "    'вывод существующих полок'\n",
    "    print(str + 'Текущий перечень полок: ' + ', '.join(directories.keys()))\n",
    "\n",
    "def punkt_5(numb_rack):\n",
    "    'удаление пустой полки'\n",
    "    del directories[numb_rack]\n",
    "\n",
    "while (comand := input('Введите команду:')) != 'q':\n",
    "    if (comand == 'p') or (comand == 's'):\n",
    "        check_doc(comand)\n",
    "    elif comand == 'l':\n",
    "        punkt_3()\n",
    "    elif comand == 'ads':\n",
    "        numb_rack = ask_num_rack()\n",
    "        if numb_rack in directories:\n",
    "            print_rack('Такая полка уже существует. ')\n",
    "        else:\n",
    "            punkt_4(numb_rack)\n",
    "            print_rack('Полка добавлена. ')\n",
    "    elif comand == 'ds':\n",
    "        numb_rack = ask_num_rack()\n",
    "        if numb_rack in directories:\n",
    "            if not directories[numb_rack]:\n",
    "                punkt_5(numb_rack)\n",
    "                print_rack('Полка удалена.')\n",
    "            else:\n",
    "                print_rack('На полке есть документа, удалите их перед удалением полки. ')\n",
    "        else:\n",
    "            print_rack('Такой полки не существует. ')"
   ]
  }
 ],
 "metadata": {
  "kernelspec": {
   "display_name": "Python 3",
   "language": "python",
   "name": "python3"
  },
  "language_info": {
   "codemirror_mode": {
    "name": "ipython",
    "version": 3
   },
   "file_extension": ".py",
   "mimetype": "text/x-python",
   "name": "python",
   "nbconvert_exporter": "python",
   "pygments_lexer": "ipython3",
   "version": "3.11.2"
  }
 },
 "nbformat": 4,
 "nbformat_minor": 2
}

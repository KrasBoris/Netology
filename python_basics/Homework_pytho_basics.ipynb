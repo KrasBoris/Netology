{
 "cells": [
  {
   "cell_type": "markdown",
   "metadata": {},
   "source": [
    "# Задание 1"
   ]
  },
  {
   "cell_type": "code",
   "execution_count": 19,
   "metadata": {},
   "outputs": [
    {
     "name": "stdout",
     "output_type": "stream",
     "text": [
      "Фразы равной длины\n"
     ]
    }
   ],
   "source": [
    "phrase_1 = 'Насколько проще было бы писать программы, если бы не заказчики'\n",
    "phrase_2 = '640Кб должно хватить для любых задач. Билл Гейтс (по легенде)'\n",
    "\n",
    "if len(phrase_1) > len(phrase_2):\n",
    "    print('Фраза 1 длиннее фразы 2')\n",
    "elif len(phrase_2) > len(phrase_1):\n",
    "    print('Фраза 2 длиннее фразы 1')\n",
    "else:\n",
    "    print('Фразы равной длины')"
   ]
  },
  {
   "cell_type": "markdown",
   "metadata": {},
   "source": [
    "# Задание 2"
   ]
  },
  {
   "cell_type": "code",
   "execution_count": 33,
   "metadata": {},
   "outputs": [
    {
     "name": "stdout",
     "output_type": "stream",
     "text": [
      "Обычный год\n"
     ]
    }
   ],
   "source": [
    "year = 2020\n",
    "\n",
    "if year % 4 == 0:\n",
    "    print('Високосный год')\n",
    "else:\n",
    "    print('Обычный год')"
   ]
  },
  {
   "cell_type": "markdown",
   "metadata": {},
   "source": [
    "# Задание 3"
   ]
  },
  {
   "cell_type": "code",
   "execution_count": 55,
   "metadata": {},
   "outputs": [
    {
     "name": "stdout",
     "output_type": "stream",
     "text": [
      "Ваш знак зодиака: Рыбы\n"
     ]
    }
   ],
   "source": [
    "day = int(input('Введите день:'))\n",
    "month = input('Введите месяц:').lower()\n",
    "if ((day >= 21) & (month == 'март')) | ((day <= 20) & (month == 'апрель')):\n",
    "    print('Ваш знак зодиака: Овен')\n",
    "elif ((day >= 21) & (month == 'апрель')) | ((day <= 20) & (month == 'май')):\n",
    "    print('Ваш знак зодиака: Телец')\n",
    "elif ((day >= 21) & (month == 'май')) | ((day <= 21) & (month == 'июнь')):\n",
    "    print('Ваш знак зодиака: Близнецы')\n",
    "elif ((day >= 22) & (month == 'июнь')) | ((day <= 22) & (month == 'июль')):\n",
    "    print('Ваш знак зодиака: Рак')\n",
    "elif ((day >= 23) & (month == 'июль')) | ((day <= 23) & (month == 'август')):\n",
    "    print('Ваш знак зодиака: Лев')\n",
    "elif ((day >= 24) & (month == 'август')) | ((day <= 23) & (month == 'сентябрь')):\n",
    "    print('Ваш знак зодиака: Дева')\n",
    "elif ((day >= 24) & (month == 'сентябрь')) | ((day <= 23) & (month == 'октябрь')):\n",
    "    print('Ваш знак зодиака: Весы')\n",
    "elif ((day >= 24) & (month == 'октябрь')) | ((day <= 22) & (month == 'ноябрь')):\n",
    "    print('Ваш знак зодиака: Скорпион')\n",
    "elif ((day >= 23) & (month == 'ноябрь')) | ((day <= 21) & (month == 'декабрь')):\n",
    "    print('Ваш знак зодиака: Стрелец')\n",
    "elif ((day >= 22) & (month == 'декабрь')) | ((day <= 20) & (month == 'январь')):\n",
    "    print('Ваш знак зодиака: Козерог')\n",
    "elif ((day >= 21) & (month == 'январь')) | ((day <= 18) & (month == 'февраль')):\n",
    "    print('Ваш знак зодиака: Водолей')\n",
    "elif ((day >= 19) & (month == 'февраль')) | ((day <= 20) & (month == 'март')):\n",
    "    print('Ваш знак зодиака: Рыбы')"
   ]
  },
  {
   "cell_type": "markdown",
   "metadata": {},
   "source": [
    "# Задание 4"
   ]
  },
  {
   "cell_type": "code",
   "execution_count": 11,
   "metadata": {},
   "outputs": [
    {
     "name": "stdout",
     "output_type": "stream",
     "text": [
      "Коробка №1\n"
     ]
    }
   ],
   "source": [
    "width = 15\n",
    "length = 15\n",
    "height = 15\n",
    "\n",
    "if (width <= 15) & (length <= 15) & (height <= 15):\n",
    "    print('Коробка №1')\n",
    "elif (width > 200) | (length > 200) | (height > 200):\n",
    "    print('Упаковка для лыж')\n",
    "elif (15 < width < 55) | (15 < length < 55) | (15 < height < 55):\n",
    "    print('Коробка №2')\n",
    "else:\n",
    "    print('Коробка №3')"
   ]
  },
  {
   "cell_type": "code",
   "execution_count": null,
   "metadata": {},
   "outputs": [],
   "source": []
  }
 ],
 "metadata": {
  "kernelspec": {
   "display_name": "Python 3",
   "language": "python",
   "name": "python3"
  },
  "language_info": {
   "codemirror_mode": {
    "name": "ipython",
    "version": 3
   },
   "file_extension": ".py",
   "mimetype": "text/x-python",
   "name": "python",
   "nbconvert_exporter": "python",
   "pygments_lexer": "ipython3",
   "version": "3.11.2"
  }
 },
 "nbformat": 4,
 "nbformat_minor": 2
}
